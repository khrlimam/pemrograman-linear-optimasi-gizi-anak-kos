{
 "cells": [
  {
   "cell_type": "markdown",
   "metadata": {},
   "source": [
    "# Sekilas\n",
    "Anak kosan itu hidupnya susah, jauh dari orang tua, jauh dari rumah, jauh dari ketenangan batin, uang pas-pasan belum lagi ada yang ngutang, makan gak teratur, udah gak teratur makanannya gak sehat lagi, menu pamungkas anak kos itu mie instant + nasi satu piring, itu udah kenyang banget. Saya yakin semua anak kosan prihatin dengan kehidupan mereka yang tidak sehat ini, saya ingin membantu menyelesaikan masalah asupan gizi mereka dengan uang pas-pasan ala anak kos tapi bisa memenuhi kebutuhan gizi dan vitamin tubuh mereka selama menunggu gajian selanjutnya dari orang tua."
   ]
  },
  {
   "cell_type": "markdown",
   "metadata": {
    "collapsed": true
   },
   "source": [
    "# Masalah\n",
    "Nutrisi yang ingin dioptimalkan adalah protein dan magnesium, protein dibutuhkan untuk pertumbuhan, asupan nutrisi dan perkembangan otak dan magnesium dibutuhkan tubuh untuk menjaga metabolisme sel, detoksifikasi, produksi energi menjaga kesehatan jantung dan tulang. Diketahui bahwa protein yang dibutuhkan tubuh perhari adalah 1g/kg berat badan. Jika dirata-ratakan berat badan anak kos-kosan adalah 50kg berarti jumlah protein yang dibutuhkan tubuh perhari adalah 50g. Adapun jumlah magnesium yang dibutuhkan tubuh perhari adalah 400mg. Makanan yang terjangkau yang mengandung banyak protein dan magnesium adalah bayam dan tempe dengan tabel sebagai berikut:\n",
    "\n",
    "\n",
    "|Makanan     |Protein     |Magnesium     |Harga       |\n",
    "|:----------:|:----------:|:------------:|:----------:|\n",
    "|Bayam       |14g/ikat    |248mg/ikat    |2500/ikat   |\n",
    "|Tempe       |57g/bungkus |243mg/bungkus |2000/bungkus|\n",
    "|**Batasan** |**>= 50g**  |**>= 400mg**  |**<= 15000**|\n",
    "\n",
    "- Objective\n",
    "  * (14 * x + 57 * y) + (248 * x + 243 * y)\n",
    "- Decision Variables\n",
    "  * bayam = x\n",
    "  * temepe = y\n",
    "  * x,y >= 0\n",
    "- Constraints\n",
    "  * 14 * x + 57 * y >= 50\n",
    "  * 248 * x + 243 * y >= 400\n",
    "  * 2500 * x + 2000 * y <= 15000\n",
    "  "
   ]
  },
  {
   "cell_type": "code",
   "execution_count": 3,
   "metadata": {
    "collapsed": false
   },
   "outputs": [
    {
     "name": "stdout",
     "output_type": "stream",
     "text": [
      "Penyelesaian variabel bayam adalah 0.0\n",
      "Penyelesaian variabel tempe adalah 7.0\n"
     ]
    }
   ],
   "source": [
    "import solver\n",
    "import pulp\n",
    "\n",
    "bayam = 'bayam'\n",
    "tempe = 'tempe'\n",
    "problem_name = 'Optimasi Gizi Anak Kos'\n",
    "\n",
    "# decision variables (variabel keputusan)\n",
    "x = pulp.LpVariable(bayam, lowBound=0, cat='Integer')\n",
    "y = pulp.LpVariable(tempe, lowBound=0, cat='Integer')\n",
    "\n",
    "# objective / fungsi tujuan\n",
    "max_protein = 14 * x + 57 * y\n",
    "max_magnesium = 248 * x + 243 * y\n",
    "maximize = max_protein + max_magnesium\n",
    "\n",
    "# constrains / fungsi kendala\n",
    "protein = ((14 * x + 57 * y) >= 50 ) # 14x+57y >= 50\n",
    "\n",
    "magnesium = ((248 * x + 243 * y) >= 400) # 248x+243y >= 400\n",
    "\n",
    "harga = ((2500 * x + 2000 * y) <= 15000) # 2500x+2000y <= 15000\n",
    "\n",
    "# magics\n",
    "solver = solver.Solver(problem_name, pulp.LpMaximize)  # init the solver with maximize solution\n",
    "solver.tujuan(maximize)  # add objective/fungsi tujuan\n",
    "solver.kendala(protein, magnesium, harga)  # add constraints/fungsi kendala\n",
    "solver.hasil(x, y)  # print result if solved"
   ]
  },
  {
   "cell_type": "code",
   "execution_count": 5,
   "metadata": {
    "collapsed": false
   },
   "outputs": [
    {
     "name": "stdout",
     "output_type": "stream",
     "text": [
      "Max protein yang didapat sehari adalah 399.0g dari total minimal yang dibutuhkan (50g)\n",
      "Max magnesium yang didapat sehari adalah 1701.0mg dari total minimal yang dibutuhkan (400mg)\n",
      "Dengan pengeluaran perhari 14000.0 dari 15000 jatah belanja perhari\n"
     ]
    }
   ],
   "source": [
    "# print max\n",
    "max_protein = 14 * x.value() + 57 * y.value()\n",
    "max_magnesium = 248 * x.value() + 243 * y.value()\n",
    "print \"Max protein yang didapat sehari adalah {}g dari total minimal yang dibutuhkan (50g)\".format(max_protein)\n",
    "print \"Max magnesium yang didapat sehari adalah {}mg dari total minimal yang dibutuhkan (400mg)\".format(max_magnesium)\n",
    "print \"Dengan pengeluaran perhari {} dari 15000 jatah belanja perhari\".format(2500 * x.value() + 2000 * y.value())"
   ]
  },
  {
   "cell_type": "code",
   "execution_count": 6,
   "metadata": {
    "collapsed": false
   },
   "outputs": [
    {
     "data": {
      "image/png": "[encoded data removed]",
      "text/plain": [
       "<matplotlib.figure.Figure at 0x7fc6c714cb90>"
      ]
     },
     "metadata": {},
     "output_type": "display_data"
    }
   ],
   "source": [
    "import numpy as np  \n",
    "import matplotlib.pyplot as plt  \n",
    "def graph(formula, x_range):  \n",
    "    x = np.array(x_range)  \n",
    "    y = eval(formula)\n",
    "    plt.plot(x, y)  \n",
    "    plt.show()\n",
    "    \n",
    "graph('x**3+2*x-4', range(-10, 11))"
   ]
  },
  {
   "cell_type": "code",
   "execution_count": null,
   "metadata": {
    "collapsed": true
   },
   "outputs": [],
   "source": []
  }
 ],
 "metadata": {
  "kernelspec": {
   "display_name": "Python 2",
   "language": "python",
   "name": "python2"
  },
  "language_info": {
   "codemirror_mode": {
    "name": "ipython",
    "version": 2
   },
   "file_extension": ".py",
   "mimetype": "text/x-python",
   "name": "python",
   "nbconvert_exporter": "python",
   "pygments_lexer": "ipython2",
   "version": "2.7.6"
  }
 },
 "nbformat": 4,
 "nbformat_minor": 1
}
