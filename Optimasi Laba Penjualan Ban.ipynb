{
 "cells": [
  {
   "cell_type": "markdown",
   "metadata": {},
   "source": [
    "# Kasus\n",
    "PT. Samba Lababan memproduksi ban motor dan ban sepeda. Proses pembuatan ban motor melalui tiga mesin, yaitu 2 menit mesin 1, 8 menit pada mesin 2 dan 10 menit pada mesin 3. Adapun ban sepeda diprosesnya melalui dua mesin, yaitu 5 menit pada mesin 1 dan 4 menit pada mesin2. Tiap mesin ini dapat dioperasikan 800 menit perhari. Untuk memperoleh keuntungan maksimum, rencananya perusahaan ini akan mengambil keuntungan Rp40.000,00 dari setiap penjualan ban motor dan Rp30.000,00 dari setiap penjualan ban sepeda. Bagaimana pihak perusahaan merencanakan banyak ban motor dan banyak ban sepeda yang akan diproduksinya sehingga keuntungannya maksimum.\n",
    "\n",
    "Petakan kasus dalam bentuk tabel untuk mempermudah pemodelan matematika:\n",
    "\n",
    "|Produk       |Mesin 1  |Mesin 2  |Mesin 3  |Laba      |\n",
    "|:-----------:|:-------:|:-------:|:-------:|:--------:|\n",
    "|Ban Motor    |2 menit  |8 menit  |10 menit |40000     |\n",
    "|Ban Sepeda   |5 menit  |4 menit  |0  menit |30000     |\n",
    "|**Tersedia** |800 menit|800 menit|800 menit|?         |\n",
    "\n",
    "Setiap masalah pemrograman linear harus mempunyai constraints/kendala, decision variabel/variabel keputusan dan objective/tujuan.\n",
    "\n",
    "* Decision variable\n",
    "  - Ban Motor = x\n",
    "  - Ban Sepeda = y\n",
    "* Constraint\n",
    "  - 2x+5y <= 800\n",
    "  - 8x+4y <= 800\n",
    "  - 10x+0y <= 800\n",
    "* Objective\n",
    "  - 40000x+30000y\n",
    "  \n",
    "Dengan pulp kita bisa menyelesaikan masalah diatas dengan mudah. Lihat dibawah"
   ]
  },
  {
   "cell_type": "code",
   "execution_count": 10,
   "metadata": {
    "collapsed": false
   },
   "outputs": [
    {
     "name": "stdout",
     "output_type": "stream",
     "text": [
      "Solusi variabel ban_motor adalah 25.0\n",
      "Solusi variabel ban_sepeda adalah 150.0\n"
     ]
    }
   ],
   "source": [
    "import pulp\n",
    "import solver\n",
    "\n",
    "ban_sepeda = 'ban sepeda'\n",
    "ban_motor = 'ban motor'\n",
    "problem_name = 'Optimasi Laba Penjualan Ban'\n",
    "\n",
    "# decision variables (variabel keputusan)\n",
    "x = pulp.LpVariable(ban_motor, lowBound=0, cat='Integer')\n",
    "y = pulp.LpVariable(ban_sepeda, lowBound=0, cat='Integer')\n",
    "\n",
    "# objective / fungsi tujuan\n",
    "maximize = 40000 * x + 20000 * y\n",
    "\n",
    "# constraints / fungsi kendala\n",
    "mesin1 = 2 * x + 5 * y <= 800\n",
    "mesin2 = 8 * x + 4 * y <= 800\n",
    "mesin3 = 10 * x + 0 * y <= 800\n",
    "\n",
    "# magics\n",
    "solver = solver.Solver(problem_name, pulp.LpMaximize)  # init the solver\n",
    "solver.tujuan(maximize)  # tentukan tujuan yang kita inginkan\n",
    "solver.kendala(mesin1, mesin2, mesin3)  # tambahkan kendala yang kita buat\n",
    "solver.hasil(x, y)  # print hasil dari kedua variabel jika kasus diselesaikan"
   ]
  },
  {
   "cell_type": "markdown",
   "metadata": {},
   "source": [
    "Bisa dilihat nilai optimalnya adalah (25, 150) untuk (x,y)\n",
    "\n",
    "\n",
    "class ***solver*** bisa anda lihat di repository"
   ]
  },
  {
   "cell_type": "markdown",
   "metadata": {},
   "source": [
    "# Catatan\n",
    "Anda bisa menggunakan pulp bukan hanya untuk menyelesaikan kendala dengan 2 variabel. Pulp mengimplementasi algoritma simplex (revised simplex), contoh diatas adalah contoh kasus sederhana yang hanya melibatkan 2 variabel. Contoh implementasi lebih dari 2 variabel bisa dilihat di repository Mba' (sok kenal) [Anna Nocanorova](https://github.com/AnnaNican/optimizers)"
   ]
  },
  {
   "cell_type": "code",
   "execution_count": null,
   "metadata": {
    "collapsed": true
   },
   "outputs": [],
   "source": []
  }
 ],
 "metadata": {
  "kernelspec": {
   "display_name": "Python 2",
   "language": "python",
   "name": "python2"
  },
  "language_info": {
   "codemirror_mode": {
    "name": "ipython",
    "version": 2
   },
   "file_extension": ".py",
   "mimetype": "text/x-python",
   "name": "python",
   "nbconvert_exporter": "python",
   "pygments_lexer": "ipython2",
   "version": "2.7.6"
  }
 },
 "nbformat": 4,
 "nbformat_minor": 0
}
