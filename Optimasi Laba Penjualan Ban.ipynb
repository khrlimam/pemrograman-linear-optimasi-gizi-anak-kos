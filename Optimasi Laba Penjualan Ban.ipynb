{
 "cells": [
  {
   "cell_type": "markdown",
   "metadata": {},
   "source": [
    "# Kasus\n",
    "PT. Samba Lababan memproduksi ban motor dan ban sepeda. Proses pembuatan ban motor melalui tiga mesin, yaitu 2 menit mesin 1, 8 menit pada mesin 2 dan 10 menit pada mesin 3. Adapun ban sepeda diprosesnya melalui dua mesin, yaitu 5 menit pada mesin 1 dan 4 menit pada mesin2. Tiap mesin ini dapat dioperasikan 800 menit perhari. Untuk memperoleh keuntungan maksimum, rencananya perusahaan ini akan mengambil keuntungan Rp40.000,00 dari setiap penjualan ban motor dan Rp30.000,00 dari setiap penjualan ban sepeda. Bagaimana pihak perusahaan merencanakan banyak ban motor dan banyak ban sepeda yang akan diproduksinya sehingga keuntungannya maksimum.\n",
    "\n",
    "Petakan kasus dalam bentuk tabel:\n",
    "\n",
    "|Produk       |Mesin 1  |Mesin 2  |Mesin 3  |Laba      |\n",
    "|:-----------:|:-------:|:-------:|:-------:|:--------:|\n",
    "|Ban Motor    |2 menit  |8 menit  |10 menit |40000     |\n",
    "|Ban Sepeda   |5 menit  |4 menit  |0  menit |30000     |\n",
    "|**Tersedia** |800 menit|800 menit|800 menit|?         |\n",
    "\n",
    "Setiap masalah pemrograman linear harus mempunyai constrains/kendala, decision variabel/variabel keputusan dan objective/tujuan.\n",
    "\n",
    "* Decision variable\n",
    "  - Ban Motor = x\n",
    "  - Ban Sepeda = y\n",
    "* Constraint\n",
    "  - "
   ]
  },
  {
   "cell_type": "code",
   "execution_count": null,
   "metadata": {
    "collapsed": true
   },
   "outputs": [],
   "source": []
  }
 ],
 "metadata": {
  "kernelspec": {
   "display_name": "Python 2",
   "language": "python",
   "name": "python2"
  },
  "language_info": {
   "codemirror_mode": {
    "name": "ipython",
    "version": 2
   },
   "file_extension": ".py",
   "mimetype": "text/x-python",
   "name": "python",
   "nbconvert_exporter": "python",
   "pygments_lexer": "ipython2",
   "version": "2.7.6"
  }
 },
 "nbformat": 4,
 "nbformat_minor": 1
}
