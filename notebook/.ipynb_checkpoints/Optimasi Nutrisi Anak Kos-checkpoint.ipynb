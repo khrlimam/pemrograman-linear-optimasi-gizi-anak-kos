{
 "cells": [
  {
   "cell_type": "markdown",
   "metadata": {},
   "source": [
    "# Sekilas\n",
    "Anak kosan itu hidupnya susah, jauh dari orang tua, jauh dari rumah, jauh dari ketenangan batin, uang pas-pasan belum lagi ada yang ngutang, makan gak teratur, udah gak teratur makanannya gak sehat lagi, menu pamungkas anak kos itu mie instant + nasi satu piring, itu udah kenyang banget. Saya yakin semua anak kosan prihatin dengan kehidupan mereka yang tidak sehat ini, saya ingin membantu menyelesaikan masalah asupan gizi mereka dengan uang pas-pasan ala anak kos tapi bisa memenuhi kebutuhan gizi dan vitamin tubuh mereka selama menunggu gajian selanjutnya dari ortu."
   ]
  },
  {
   "cell_type": "markdown",
   "metadata": {},
   "source": [
    "# Fakta\n",
    "Sedikit baca informasi [di sini](http://www.pasiensehat.com/2015/03/kebutuhan-nutrisi-yang-dibutuhkan-tubuh.html) dan [sini](http://www.sehatplus.com/nutrisi-yang-dibutuhkan-tubuh.html) kita ketahui bahwa asupan nutrisi yang diperlukan tubuh setiap hari adalah:\n",
    "1. Kalsium\n",
    "2. Kolin\n",
    "3. Magnesium\n",
    "4. Potasium\n",
    "5. Serat\n",
    "\n",
    "Berikut tabel asupan nutrisi yang dibutuhkan tubuh:\n",
    "\n",
    "|NO   |Gizi      |Yang Dibutuhkan     |\n",
    "|:---:|:--------:|:------------------:|\n",
    "|1    |Kalsium   |~1200 mg            |\n",
    "|2    |Kolin     |~550 mg             |\n",
    "|3    |Magnesium |~400 mg             |\n",
    "|4    |Potasium  |~4700 mg            |\n",
    "|5    |Serat     |~34 gr              |"
   ]
  },
  {
   "cell_type": "markdown",
   "metadata": {
    "collapsed": true
   },
   "source": [
    "# Masalah\n",
    "Untuk membatasi variable keputusan kita hanya akan menggunakan "
   ]
  },
  {
   "cell_type": "code",
   "execution_count": null,
   "metadata": {
    "collapsed": false
   },
   "outputs": [],
   "source": []
  }
 ],
 "metadata": {
  "kernelspec": {
   "display_name": "Python 2",
   "language": "python",
   "name": "python2"
  },
  "language_info": {
   "codemirror_mode": {
    "name": "ipython",
    "version": 2
   },
   "file_extension": ".py",
   "mimetype": "text/x-python",
   "name": "python",
   "nbconvert_exporter": "python",
   "pygments_lexer": "ipython2",
   "version": "2.7.6"
  }
 },
 "nbformat": 4,
 "nbformat_minor": 1
}
